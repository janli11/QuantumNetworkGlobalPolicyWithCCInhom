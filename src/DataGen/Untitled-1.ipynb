{
 "cells": [
  {
   "cell_type": "code",
   "execution_count": null,
   "id": "14e5baba",
   "metadata": {},
   "outputs": [],
   "source": [
    "from itertools import product\n",
    "list1 = [1,2,3]\n",
    "list2 = [[4,5,6],[7,8,9],[10,11,12]]\n",
    "prod_lists = []\n",
    "for el in product(*[list1,list2]):\n",
    "    prod_lists.append(el)\n",
    "\n",
    "print(prod_lists)"
   ]
  }
 ],
 "metadata": {
  "kernelspec": {
   "display_name": "RL_env",
   "language": "python",
   "name": "python3"
  },
  "language_info": {
   "name": "python",
   "version": "3.11.3"
  }
 },
 "nbformat": 4,
 "nbformat_minor": 5
}
